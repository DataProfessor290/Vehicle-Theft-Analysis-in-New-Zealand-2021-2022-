{
 "cells": [
  {
   "cell_type": "markdown",
   "id": "7c662d88-4808-492d-851b-1dfdd5add9bc",
   "metadata": {},
   "source": [
    "# **Comprehensive Analysis of Vehicle Theft Patterns: Trends, Risk Factors, and Prevention Strategies**"
   ]
  },
  {
   "cell_type": "markdown",
   "id": "b5d633c8-682f-405d-817f-00321ee9d008",
   "metadata": {},
   "source": [
    "## Background & Context\n",
    "\n",
    "Vehicle theft remains a significant issue that impacts public safety, urban planning, and insurance risk modeling. By analyzing and understanding these theft patterns, we can develop strategies to mitigate the impact. With the data infrastructure now organized across multiple relational tables, the goal is to gain deeper insights into vehicle theft dynamics.\n",
    "\n",
    "The data is organized into three structured spreadsheets:\n",
    "1. **Vehicle Theft** – Contains core theft records with unique identifiers, including dates, vehicle details, and theft incidents.\n",
    "2. **Make Detail** – Holds metadata about each vehicle, including make, model, type, and additional vehicle attributes.\n",
    "3. **Location** – Offers geographical and jurisdictional information for each theft incident.\n",
    "\n",
    "The objective is to extract meaningful insights by merging and analyzing these relational datasets, which will help guide decision-making for theft prevention and intervention.\n",
    "\n",
    "---\n",
    "## Project Objectives\n",
    "\n",
    "The task at hand is to analyze the integrated dataset to achieve the following objectives:\n",
    "\n",
    "### 1. Analyze Theft Trends Over Time\n",
    "   - Identify high-theft periods and seasonal fluctuations.\n",
    "   - Explore trends across years, months, and days of the week to detect patterns or spikes in car thefts.\n",
    "\n",
    "### 2. Vehicle-Level Profiling\n",
    "   - Understand theft patterns based on vehicle characteristics such as make, model, color, and type.\n",
    "   - Investigate which vehicle types, makes, and models are more frequently targeted and identify underlying reasons for their vulnerability.\n",
    "\n",
    "### 3. Geographic Risk Assessment\n",
    "   - Map and compare theft rates across different locations and jurisdictions.\n",
    "   - Identify areas with higher theft rates, which may require enhanced police presence or targeted prevention measures.\n",
    "\n",
    "### 4. Link Relational Data\n",
    "   - Effectively join the three datasets using relevant keys to create a comprehensive analysis.\n",
    "   - Ensure data integrity and identify any potential issues in the linking process that may affect the analysis.\n",
    "\n",
    "### 5. Generate Practical Insights\n",
    "   - Provide actionable recommendations based on the findings.\n",
    "   - Suggest preventive measures, policy interventions, and practical strategies for addressing the root causes of vehicle theft.\n"
   ]
  },
  {
   "cell_type": "markdown",
   "id": "0b84d9bf-2694-4fd7-8f87-cddbea9856ef",
   "metadata": {},
   "source": [
    "## **Library Importation**"
   ]
  },
  {
   "cell_type": "code",
   "execution_count": 42,
   "id": "733576c9-18d9-468f-a076-3f165ffded55",
   "metadata": {},
   "outputs": [],
   "source": [
    "## import neccessary libraries\n",
    "import pandas as pd \n",
    "import matplotlib.pyplot as plt\n",
    "import seaborn as sns"
   ]
  },
  {
   "cell_type": "markdown",
   "id": "a44b6a01-c5eb-43cd-ab17-e5a6cb4e479d",
   "metadata": {},
   "source": [
    "## **Data Importation**"
   ]
  },
  {
   "cell_type": "code",
   "execution_count": 4,
   "id": "fee2339e-430c-429d-a9bb-491c4628102b",
   "metadata": {},
   "outputs": [],
   "source": [
    "## load datasets\n",
    "theft = pd.read_csv(\"stolen_vehicles.csv\")\n",
    "make = pd.read_csv(\"make_details.csv\")\n",
    "location = pd.read_csv(\"locations.csv\")"
   ]
  },
  {
   "cell_type": "code",
   "execution_count": 5,
   "id": "22e58d4d-d367-40b0-a318-5c292b3e30e6",
   "metadata": {},
   "outputs": [
    {
     "data": {
      "text/html": [
       "<div>\n",
       "<style scoped>\n",
       "    .dataframe tbody tr th:only-of-type {\n",
       "        vertical-align: middle;\n",
       "    }\n",
       "\n",
       "    .dataframe tbody tr th {\n",
       "        vertical-align: top;\n",
       "    }\n",
       "\n",
       "    .dataframe thead th {\n",
       "        text-align: right;\n",
       "    }\n",
       "</style>\n",
       "<table border=\"1\" class=\"dataframe\">\n",
       "  <thead>\n",
       "    <tr style=\"text-align: right;\">\n",
       "      <th></th>\n",
       "      <th>vehicle_id</th>\n",
       "      <th>vehicle_type</th>\n",
       "      <th>make_id</th>\n",
       "      <th>model_year</th>\n",
       "      <th>vehicle_desc</th>\n",
       "      <th>color</th>\n",
       "      <th>date_stolen</th>\n",
       "      <th>location_id</th>\n",
       "    </tr>\n",
       "  </thead>\n",
       "  <tbody>\n",
       "    <tr>\n",
       "      <th>0</th>\n",
       "      <td>1</td>\n",
       "      <td>Trailer</td>\n",
       "      <td>623.0</td>\n",
       "      <td>2021.0</td>\n",
       "      <td>BST2021D</td>\n",
       "      <td>Silver</td>\n",
       "      <td>11/5/21</td>\n",
       "      <td>102</td>\n",
       "    </tr>\n",
       "    <tr>\n",
       "      <th>1</th>\n",
       "      <td>2</td>\n",
       "      <td>Boat Trailer</td>\n",
       "      <td>623.0</td>\n",
       "      <td>2021.0</td>\n",
       "      <td>OUTBACK BOATS FT470</td>\n",
       "      <td>Silver</td>\n",
       "      <td>12/13/21</td>\n",
       "      <td>105</td>\n",
       "    </tr>\n",
       "    <tr>\n",
       "      <th>2</th>\n",
       "      <td>3</td>\n",
       "      <td>Boat Trailer</td>\n",
       "      <td>623.0</td>\n",
       "      <td>2021.0</td>\n",
       "      <td>ASD JETSKI</td>\n",
       "      <td>Silver</td>\n",
       "      <td>2/13/22</td>\n",
       "      <td>102</td>\n",
       "    </tr>\n",
       "    <tr>\n",
       "      <th>3</th>\n",
       "      <td>4</td>\n",
       "      <td>Trailer</td>\n",
       "      <td>623.0</td>\n",
       "      <td>2021.0</td>\n",
       "      <td>MSC 7X4</td>\n",
       "      <td>Silver</td>\n",
       "      <td>11/13/21</td>\n",
       "      <td>106</td>\n",
       "    </tr>\n",
       "    <tr>\n",
       "      <th>4</th>\n",
       "      <td>5</td>\n",
       "      <td>Trailer</td>\n",
       "      <td>623.0</td>\n",
       "      <td>2018.0</td>\n",
       "      <td>D-MAX 8X5</td>\n",
       "      <td>Silver</td>\n",
       "      <td>1/10/22</td>\n",
       "      <td>102</td>\n",
       "    </tr>\n",
       "  </tbody>\n",
       "</table>\n",
       "</div>"
      ],
      "text/plain": [
       "   vehicle_id  vehicle_type  make_id  model_year         vehicle_desc   color  \\\n",
       "0           1       Trailer    623.0      2021.0             BST2021D  Silver   \n",
       "1           2  Boat Trailer    623.0      2021.0  OUTBACK BOATS FT470  Silver   \n",
       "2           3  Boat Trailer    623.0      2021.0           ASD JETSKI  Silver   \n",
       "3           4       Trailer    623.0      2021.0              MSC 7X4  Silver   \n",
       "4           5       Trailer    623.0      2018.0            D-MAX 8X5  Silver   \n",
       "\n",
       "  date_stolen  location_id  \n",
       "0     11/5/21          102  \n",
       "1    12/13/21          105  \n",
       "2     2/13/22          102  \n",
       "3    11/13/21          106  \n",
       "4     1/10/22          102  "
      ]
     },
     "execution_count": 5,
     "metadata": {},
     "output_type": "execute_result"
    }
   ],
   "source": [
    "theft.head()  ## first 5 rows in theft dataframe "
   ]
  },
  {
   "cell_type": "code",
   "execution_count": 6,
   "id": "9bf0a5b4-8321-4291-8080-edb41d7ccea2",
   "metadata": {},
   "outputs": [
    {
     "data": {
      "text/html": [
       "<div>\n",
       "<style scoped>\n",
       "    .dataframe tbody tr th:only-of-type {\n",
       "        vertical-align: middle;\n",
       "    }\n",
       "\n",
       "    .dataframe tbody tr th {\n",
       "        vertical-align: top;\n",
       "    }\n",
       "\n",
       "    .dataframe thead th {\n",
       "        text-align: right;\n",
       "    }\n",
       "</style>\n",
       "<table border=\"1\" class=\"dataframe\">\n",
       "  <thead>\n",
       "    <tr style=\"text-align: right;\">\n",
       "      <th></th>\n",
       "      <th>make_id</th>\n",
       "      <th>make_name</th>\n",
       "      <th>make_type</th>\n",
       "    </tr>\n",
       "  </thead>\n",
       "  <tbody>\n",
       "    <tr>\n",
       "      <th>0</th>\n",
       "      <td>501</td>\n",
       "      <td>Aakron Xpress</td>\n",
       "      <td>Standard</td>\n",
       "    </tr>\n",
       "    <tr>\n",
       "      <th>1</th>\n",
       "      <td>502</td>\n",
       "      <td>ADLY</td>\n",
       "      <td>Standard</td>\n",
       "    </tr>\n",
       "    <tr>\n",
       "      <th>2</th>\n",
       "      <td>503</td>\n",
       "      <td>Alpha</td>\n",
       "      <td>Standard</td>\n",
       "    </tr>\n",
       "    <tr>\n",
       "      <th>3</th>\n",
       "      <td>504</td>\n",
       "      <td>Anglo</td>\n",
       "      <td>Standard</td>\n",
       "    </tr>\n",
       "    <tr>\n",
       "      <th>4</th>\n",
       "      <td>505</td>\n",
       "      <td>Aprilia</td>\n",
       "      <td>Standard</td>\n",
       "    </tr>\n",
       "  </tbody>\n",
       "</table>\n",
       "</div>"
      ],
      "text/plain": [
       "   make_id      make_name make_type\n",
       "0      501  Aakron Xpress  Standard\n",
       "1      502           ADLY  Standard\n",
       "2      503          Alpha  Standard\n",
       "3      504          Anglo  Standard\n",
       "4      505        Aprilia  Standard"
      ]
     },
     "execution_count": 6,
     "metadata": {},
     "output_type": "execute_result"
    }
   ],
   "source": [
    "make.head()  ## first 5 rows in make dataframe "
   ]
  },
  {
   "cell_type": "code",
   "execution_count": 7,
   "id": "54f3f4ad-ae44-4a14-910b-ab893c6329e2",
   "metadata": {},
   "outputs": [
    {
     "data": {
      "text/html": [
       "<div>\n",
       "<style scoped>\n",
       "    .dataframe tbody tr th:only-of-type {\n",
       "        vertical-align: middle;\n",
       "    }\n",
       "\n",
       "    .dataframe tbody tr th {\n",
       "        vertical-align: top;\n",
       "    }\n",
       "\n",
       "    .dataframe thead th {\n",
       "        text-align: right;\n",
       "    }\n",
       "</style>\n",
       "<table border=\"1\" class=\"dataframe\">\n",
       "  <thead>\n",
       "    <tr style=\"text-align: right;\">\n",
       "      <th></th>\n",
       "      <th>location_id</th>\n",
       "      <th>region</th>\n",
       "      <th>country</th>\n",
       "      <th>population</th>\n",
       "      <th>density</th>\n",
       "    </tr>\n",
       "  </thead>\n",
       "  <tbody>\n",
       "    <tr>\n",
       "      <th>0</th>\n",
       "      <td>101</td>\n",
       "      <td>Northland</td>\n",
       "      <td>New Zealand</td>\n",
       "      <td>201,500</td>\n",
       "      <td>16.11</td>\n",
       "    </tr>\n",
       "    <tr>\n",
       "      <th>1</th>\n",
       "      <td>102</td>\n",
       "      <td>Auckland</td>\n",
       "      <td>New Zealand</td>\n",
       "      <td>1,695,200</td>\n",
       "      <td>343.09</td>\n",
       "    </tr>\n",
       "    <tr>\n",
       "      <th>2</th>\n",
       "      <td>103</td>\n",
       "      <td>Waikato</td>\n",
       "      <td>New Zealand</td>\n",
       "      <td>513,800</td>\n",
       "      <td>21.50</td>\n",
       "    </tr>\n",
       "    <tr>\n",
       "      <th>3</th>\n",
       "      <td>104</td>\n",
       "      <td>Bay of Plenty</td>\n",
       "      <td>New Zealand</td>\n",
       "      <td>347,700</td>\n",
       "      <td>28.80</td>\n",
       "    </tr>\n",
       "    <tr>\n",
       "      <th>4</th>\n",
       "      <td>105</td>\n",
       "      <td>Gisborne</td>\n",
       "      <td>New Zealand</td>\n",
       "      <td>52,100</td>\n",
       "      <td>6.21</td>\n",
       "    </tr>\n",
       "  </tbody>\n",
       "</table>\n",
       "</div>"
      ],
      "text/plain": [
       "   location_id         region      country population  density\n",
       "0          101      Northland  New Zealand    201,500    16.11\n",
       "1          102       Auckland  New Zealand  1,695,200   343.09\n",
       "2          103        Waikato  New Zealand    513,800    21.50\n",
       "3          104  Bay of Plenty  New Zealand    347,700    28.80\n",
       "4          105       Gisborne  New Zealand     52,100     6.21"
      ]
     },
     "execution_count": 7,
     "metadata": {},
     "output_type": "execute_result"
    }
   ],
   "source": [
    "location.head()  ## first 5 rows in location dataframe "
   ]
  },
  {
   "cell_type": "code",
   "execution_count": 100,
   "id": "75669666-4067-44d1-ad44-2d0aae216161",
   "metadata": {},
   "outputs": [],
   "source": [
    "def check_null(data):\n",
    "    data = data.copy()\n",
    "    return data.isna().any()\n",
    "    "
   ]
  },
  {
   "cell_type": "markdown",
   "id": "203fff51-f695-4a09-907c-9097d46217ee",
   "metadata": {},
   "source": [
    "## **Data Cleaning and Wrangling**"
   ]
  },
  {
   "cell_type": "code",
   "execution_count": 16,
   "id": "e9861484-6410-4e97-a949-7977cf981c2a",
   "metadata": {},
   "outputs": [],
   "source": [
    "## merge theft, make and location table \n",
    "df = theft.merge(make,on = \"make_id\", how = \"left\").merge(location, on = \"location_id\", how = \"left\")"
   ]
  },
  {
   "cell_type": "code",
   "execution_count": 17,
   "id": "6384d124-7452-4753-b1f8-6d1658210bef",
   "metadata": {},
   "outputs": [
    {
     "name": "stdout",
     "output_type": "stream",
     "text": [
      "<class 'pandas.core.frame.DataFrame'>\n",
      "RangeIndex: 4553 entries, 0 to 4552\n",
      "Data columns (total 14 columns):\n",
      " #   Column        Non-Null Count  Dtype  \n",
      "---  ------        --------------  -----  \n",
      " 0   vehicle_id    4553 non-null   int64  \n",
      " 1   vehicle_type  4527 non-null   object \n",
      " 2   make_id       4538 non-null   float64\n",
      " 3   model_year    4538 non-null   float64\n",
      " 4   vehicle_desc  4520 non-null   object \n",
      " 5   color         4538 non-null   object \n",
      " 6   date_stolen   4553 non-null   object \n",
      " 7   location_id   4553 non-null   int64  \n",
      " 8   make_name     4538 non-null   object \n",
      " 9   make_type     4538 non-null   object \n",
      " 10  region        4553 non-null   object \n",
      " 11  country       4553 non-null   object \n",
      " 12  population    4553 non-null   object \n",
      " 13  density       4553 non-null   float64\n",
      "dtypes: float64(3), int64(2), object(9)\n",
      "memory usage: 498.1+ KB\n"
     ]
    }
   ],
   "source": [
    "df.info()  ## check the summary of the merged dataset"
   ]
  },
  {
   "cell_type": "code",
   "execution_count": 22,
   "id": "faba00e0-f4d8-46d9-9a57-6ddf0f152d44",
   "metadata": {},
   "outputs": [],
   "source": [
    "df.columns = df.columns.str.strip()  ## remove white spaces from columns "
   ]
  },
  {
   "cell_type": "code",
   "execution_count": 90,
   "id": "87689d2c-6099-46fd-8542-d3ea3a203995",
   "metadata": {},
   "outputs": [],
   "source": [
    "df[\"date_stolen\"] = pd.to_datetime(df[\"date_stolen\"], errors = \"coerce\")\n",
    "df[\"month\"] = df[\"date_stolen\"].dt.month_name()\n",
    "df[\"day\"] = df[\"date_stolen\"].dt.day_name()\n",
    "df[\"year\"] = df[\"date_stolen\"].dt.year\n",
    "df[\"model_year\"] = df[\"model_year\"].astype(\"int\")\n",
    "df[\"make_id\"] = df[\"make_id\"].astype(\"int\")"
   ]
  },
  {
   "cell_type": "code",
   "execution_count": 91,
   "id": "c68ee13b-4d7b-4b24-a33f-dd75dbe3786c",
   "metadata": {},
   "outputs": [
    {
     "data": {
      "text/html": [
       "<div>\n",
       "<style scoped>\n",
       "    .dataframe tbody tr th:only-of-type {\n",
       "        vertical-align: middle;\n",
       "    }\n",
       "\n",
       "    .dataframe tbody tr th {\n",
       "        vertical-align: top;\n",
       "    }\n",
       "\n",
       "    .dataframe thead th {\n",
       "        text-align: right;\n",
       "    }\n",
       "</style>\n",
       "<table border=\"1\" class=\"dataframe\">\n",
       "  <thead>\n",
       "    <tr style=\"text-align: right;\">\n",
       "      <th></th>\n",
       "      <th>vehicle_id</th>\n",
       "      <th>vehicle_type</th>\n",
       "      <th>make_id</th>\n",
       "      <th>model_year</th>\n",
       "      <th>vehicle_desc</th>\n",
       "      <th>color</th>\n",
       "      <th>date_stolen</th>\n",
       "      <th>location_id</th>\n",
       "      <th>make_name</th>\n",
       "      <th>make_type</th>\n",
       "      <th>region</th>\n",
       "      <th>country</th>\n",
       "      <th>population</th>\n",
       "      <th>density</th>\n",
       "      <th>month</th>\n",
       "      <th>day</th>\n",
       "      <th>year</th>\n",
       "    </tr>\n",
       "  </thead>\n",
       "  <tbody>\n",
       "    <tr>\n",
       "      <th>0</th>\n",
       "      <td>1</td>\n",
       "      <td>Trailer</td>\n",
       "      <td>623</td>\n",
       "      <td>2021</td>\n",
       "      <td>BST2021D</td>\n",
       "      <td>Silver</td>\n",
       "      <td>2021-11-05</td>\n",
       "      <td>102</td>\n",
       "      <td>Trailer</td>\n",
       "      <td>Standard</td>\n",
       "      <td>Auckland</td>\n",
       "      <td>New Zealand</td>\n",
       "      <td>1,695,200</td>\n",
       "      <td>343.09</td>\n",
       "      <td>November</td>\n",
       "      <td>Friday</td>\n",
       "      <td>2021</td>\n",
       "    </tr>\n",
       "    <tr>\n",
       "      <th>1</th>\n",
       "      <td>2</td>\n",
       "      <td>Boat Trailer</td>\n",
       "      <td>623</td>\n",
       "      <td>2021</td>\n",
       "      <td>OUTBACK BOATS FT470</td>\n",
       "      <td>Silver</td>\n",
       "      <td>2021-12-13</td>\n",
       "      <td>105</td>\n",
       "      <td>Trailer</td>\n",
       "      <td>Standard</td>\n",
       "      <td>Gisborne</td>\n",
       "      <td>New Zealand</td>\n",
       "      <td>52,100</td>\n",
       "      <td>6.21</td>\n",
       "      <td>December</td>\n",
       "      <td>Monday</td>\n",
       "      <td>2021</td>\n",
       "    </tr>\n",
       "    <tr>\n",
       "      <th>2</th>\n",
       "      <td>3</td>\n",
       "      <td>Boat Trailer</td>\n",
       "      <td>623</td>\n",
       "      <td>2021</td>\n",
       "      <td>ASD JETSKI</td>\n",
       "      <td>Silver</td>\n",
       "      <td>2022-02-13</td>\n",
       "      <td>102</td>\n",
       "      <td>Trailer</td>\n",
       "      <td>Standard</td>\n",
       "      <td>Auckland</td>\n",
       "      <td>New Zealand</td>\n",
       "      <td>1,695,200</td>\n",
       "      <td>343.09</td>\n",
       "      <td>February</td>\n",
       "      <td>Sunday</td>\n",
       "      <td>2022</td>\n",
       "    </tr>\n",
       "    <tr>\n",
       "      <th>3</th>\n",
       "      <td>4</td>\n",
       "      <td>Trailer</td>\n",
       "      <td>623</td>\n",
       "      <td>2021</td>\n",
       "      <td>MSC 7X4</td>\n",
       "      <td>Silver</td>\n",
       "      <td>2021-11-13</td>\n",
       "      <td>106</td>\n",
       "      <td>Trailer</td>\n",
       "      <td>Standard</td>\n",
       "      <td>Hawke's Bay</td>\n",
       "      <td>New Zealand</td>\n",
       "      <td>182,700</td>\n",
       "      <td>12.92</td>\n",
       "      <td>November</td>\n",
       "      <td>Saturday</td>\n",
       "      <td>2021</td>\n",
       "    </tr>\n",
       "    <tr>\n",
       "      <th>4</th>\n",
       "      <td>5</td>\n",
       "      <td>Trailer</td>\n",
       "      <td>623</td>\n",
       "      <td>2018</td>\n",
       "      <td>D-MAX 8X5</td>\n",
       "      <td>Silver</td>\n",
       "      <td>2022-01-10</td>\n",
       "      <td>102</td>\n",
       "      <td>Trailer</td>\n",
       "      <td>Standard</td>\n",
       "      <td>Auckland</td>\n",
       "      <td>New Zealand</td>\n",
       "      <td>1,695,200</td>\n",
       "      <td>343.09</td>\n",
       "      <td>January</td>\n",
       "      <td>Monday</td>\n",
       "      <td>2022</td>\n",
       "    </tr>\n",
       "    <tr>\n",
       "      <th>...</th>\n",
       "      <td>...</td>\n",
       "      <td>...</td>\n",
       "      <td>...</td>\n",
       "      <td>...</td>\n",
       "      <td>...</td>\n",
       "      <td>...</td>\n",
       "      <td>...</td>\n",
       "      <td>...</td>\n",
       "      <td>...</td>\n",
       "      <td>...</td>\n",
       "      <td>...</td>\n",
       "      <td>...</td>\n",
       "      <td>...</td>\n",
       "      <td>...</td>\n",
       "      <td>...</td>\n",
       "      <td>...</td>\n",
       "      <td>...</td>\n",
       "    </tr>\n",
       "    <tr>\n",
       "      <th>4548</th>\n",
       "      <td>4549</td>\n",
       "      <td>NA</td>\n",
       "      <td>587</td>\n",
       "      <td>2005</td>\n",
       "      <td>NA</td>\n",
       "      <td>NA</td>\n",
       "      <td>2022-02-18</td>\n",
       "      <td>102</td>\n",
       "      <td>NA</td>\n",
       "      <td>NA</td>\n",
       "      <td>Auckland</td>\n",
       "      <td>New Zealand</td>\n",
       "      <td>1,695,200</td>\n",
       "      <td>343.09</td>\n",
       "      <td>February</td>\n",
       "      <td>Friday</td>\n",
       "      <td>2022</td>\n",
       "    </tr>\n",
       "    <tr>\n",
       "      <th>4549</th>\n",
       "      <td>4550</td>\n",
       "      <td>NA</td>\n",
       "      <td>587</td>\n",
       "      <td>2005</td>\n",
       "      <td>NA</td>\n",
       "      <td>NA</td>\n",
       "      <td>2022-02-14</td>\n",
       "      <td>109</td>\n",
       "      <td>NA</td>\n",
       "      <td>NA</td>\n",
       "      <td>Wellington</td>\n",
       "      <td>New Zealand</td>\n",
       "      <td>543,500</td>\n",
       "      <td>67.52</td>\n",
       "      <td>February</td>\n",
       "      <td>Monday</td>\n",
       "      <td>2022</td>\n",
       "    </tr>\n",
       "    <tr>\n",
       "      <th>4550</th>\n",
       "      <td>4551</td>\n",
       "      <td>NA</td>\n",
       "      <td>587</td>\n",
       "      <td>2005</td>\n",
       "      <td>NA</td>\n",
       "      <td>NA</td>\n",
       "      <td>2022-03-09</td>\n",
       "      <td>102</td>\n",
       "      <td>NA</td>\n",
       "      <td>NA</td>\n",
       "      <td>Auckland</td>\n",
       "      <td>New Zealand</td>\n",
       "      <td>1,695,200</td>\n",
       "      <td>343.09</td>\n",
       "      <td>March</td>\n",
       "      <td>Wednesday</td>\n",
       "      <td>2022</td>\n",
       "    </tr>\n",
       "    <tr>\n",
       "      <th>4551</th>\n",
       "      <td>4552</td>\n",
       "      <td>NA</td>\n",
       "      <td>587</td>\n",
       "      <td>2005</td>\n",
       "      <td>NA</td>\n",
       "      <td>NA</td>\n",
       "      <td>2022-03-07</td>\n",
       "      <td>109</td>\n",
       "      <td>NA</td>\n",
       "      <td>NA</td>\n",
       "      <td>Wellington</td>\n",
       "      <td>New Zealand</td>\n",
       "      <td>543,500</td>\n",
       "      <td>67.52</td>\n",
       "      <td>March</td>\n",
       "      <td>Monday</td>\n",
       "      <td>2022</td>\n",
       "    </tr>\n",
       "    <tr>\n",
       "      <th>4552</th>\n",
       "      <td>4553</td>\n",
       "      <td>NA</td>\n",
       "      <td>587</td>\n",
       "      <td>2005</td>\n",
       "      <td>NA</td>\n",
       "      <td>NA</td>\n",
       "      <td>2022-03-14</td>\n",
       "      <td>102</td>\n",
       "      <td>NA</td>\n",
       "      <td>NA</td>\n",
       "      <td>Auckland</td>\n",
       "      <td>New Zealand</td>\n",
       "      <td>1,695,200</td>\n",
       "      <td>343.09</td>\n",
       "      <td>March</td>\n",
       "      <td>Monday</td>\n",
       "      <td>2022</td>\n",
       "    </tr>\n",
       "  </tbody>\n",
       "</table>\n",
       "<p>4553 rows × 17 columns</p>\n",
       "</div>"
      ],
      "text/plain": [
       "      vehicle_id  vehicle_type  make_id  model_year         vehicle_desc  \\\n",
       "0              1       Trailer      623        2021             BST2021D   \n",
       "1              2  Boat Trailer      623        2021  OUTBACK BOATS FT470   \n",
       "2              3  Boat Trailer      623        2021           ASD JETSKI   \n",
       "3              4       Trailer      623        2021              MSC 7X4   \n",
       "4              5       Trailer      623        2018            D-MAX 8X5   \n",
       "...          ...           ...      ...         ...                  ...   \n",
       "4548        4549            NA      587        2005                   NA   \n",
       "4549        4550            NA      587        2005                   NA   \n",
       "4550        4551            NA      587        2005                   NA   \n",
       "4551        4552            NA      587        2005                   NA   \n",
       "4552        4553            NA      587        2005                   NA   \n",
       "\n",
       "       color date_stolen  location_id make_name make_type       region  \\\n",
       "0     Silver  2021-11-05          102   Trailer  Standard     Auckland   \n",
       "1     Silver  2021-12-13          105   Trailer  Standard     Gisborne   \n",
       "2     Silver  2022-02-13          102   Trailer  Standard     Auckland   \n",
       "3     Silver  2021-11-13          106   Trailer  Standard  Hawke's Bay   \n",
       "4     Silver  2022-01-10          102   Trailer  Standard     Auckland   \n",
       "...      ...         ...          ...       ...       ...          ...   \n",
       "4548      NA  2022-02-18          102        NA        NA     Auckland   \n",
       "4549      NA  2022-02-14          109        NA        NA   Wellington   \n",
       "4550      NA  2022-03-09          102        NA        NA     Auckland   \n",
       "4551      NA  2022-03-07          109        NA        NA   Wellington   \n",
       "4552      NA  2022-03-14          102        NA        NA     Auckland   \n",
       "\n",
       "          country population  density     month        day  year  \n",
       "0     New Zealand  1,695,200   343.09  November     Friday  2021  \n",
       "1     New Zealand     52,100     6.21  December     Monday  2021  \n",
       "2     New Zealand  1,695,200   343.09  February     Sunday  2022  \n",
       "3     New Zealand    182,700    12.92  November   Saturday  2021  \n",
       "4     New Zealand  1,695,200   343.09   January     Monday  2022  \n",
       "...           ...        ...      ...       ...        ...   ...  \n",
       "4548  New Zealand  1,695,200   343.09  February     Friday  2022  \n",
       "4549  New Zealand    543,500    67.52  February     Monday  2022  \n",
       "4550  New Zealand  1,695,200   343.09     March  Wednesday  2022  \n",
       "4551  New Zealand    543,500    67.52     March     Monday  2022  \n",
       "4552  New Zealand  1,695,200   343.09     March     Monday  2022  \n",
       "\n",
       "[4553 rows x 17 columns]"
      ]
     },
     "execution_count": 91,
     "metadata": {},
     "output_type": "execute_result"
    }
   ],
   "source": [
    "df"
   ]
  },
  {
   "cell_type": "code",
   "execution_count": 24,
   "id": "c233c399-205f-432f-a633-1cfb09fd018d",
   "metadata": {},
   "outputs": [
    {
     "data": {
      "text/plain": [
       "np.False_"
      ]
     },
     "execution_count": 24,
     "metadata": {},
     "output_type": "execute_result"
    }
   ],
   "source": [
    "## identify duplicated rows in the dataset\n",
    "df.duplicated().any()"
   ]
  },
  {
   "cell_type": "code",
   "execution_count": 25,
   "id": "0ceffe52-1b5f-4833-9b55-daa0264f2f72",
   "metadata": {},
   "outputs": [
    {
     "data": {
      "text/plain": [
       "vehicle_id      False\n",
       "vehicle_type     True\n",
       "make_id          True\n",
       "model_year       True\n",
       "vehicle_desc     True\n",
       "color            True\n",
       "date_stolen     False\n",
       "location_id     False\n",
       "make_name        True\n",
       "make_type        True\n",
       "region          False\n",
       "country         False\n",
       "population      False\n",
       "density         False\n",
       "dtype: bool"
      ]
     },
     "execution_count": 25,
     "metadata": {},
     "output_type": "execute_result"
    }
   ],
   "source": [
    "## identify missing values in the dataset \n",
    "df.isna().any()"
   ]
  },
  {
   "cell_type": "code",
   "execution_count": 26,
   "id": "379b4ed1-8316-4c87-b25a-9afc51cc8e82",
   "metadata": {},
   "outputs": [
    {
     "data": {
      "text/plain": [
       "vehicle_id       0\n",
       "vehicle_type    26\n",
       "make_id         15\n",
       "model_year      15\n",
       "vehicle_desc    33\n",
       "color           15\n",
       "date_stolen      0\n",
       "location_id      0\n",
       "make_name       15\n",
       "make_type       15\n",
       "region           0\n",
       "country          0\n",
       "population       0\n",
       "density          0\n",
       "dtype: int64"
      ]
     },
     "execution_count": 26,
     "metadata": {},
     "output_type": "execute_result"
    }
   ],
   "source": [
    "df.isna().sum()"
   ]
  },
  {
   "cell_type": "code",
   "execution_count": 29,
   "id": "ce1a7c38-3caa-497e-8368-a5b0698f527e",
   "metadata": {},
   "outputs": [],
   "source": [
    "## handle missing values \n",
    "for col in df.columns:\n",
    "    if df[col].dtype == 'O':  # Object\n",
    "        df[col] = df[col].fillna('NA')\n",
    "    else:  # Numeric\n",
    "        df[col] = df[col].fillna(df[col].median())\n"
   ]
  },
  {
   "cell_type": "markdown",
   "id": "85dafefb-efd7-4ea2-96c0-5aeffa4eee2f",
   "metadata": {},
   "source": [
    "## **Exploratory Data Analysis**"
   ]
  },
  {
   "cell_type": "markdown",
   "id": "f399019c-dd8b-4d53-9c9b-b9bb7c35a997",
   "metadata": {},
   "source": [
    "### **Theft Trend Over Time**"
   ]
  },
  {
   "cell_type": "code",
   "execution_count": 75,
   "id": "7456c3e9-846c-4db5-8a86-d69f9668ee4d",
   "metadata": {},
   "outputs": [],
   "source": [
    "monthly_order = [\"January\", \"February\", \"March\", \"April\", \"October\", \"November\", \"December\"]\n",
    "daily_order = [\"Monday\", \"Tuesday\", \"Wednesday\", \"Thursday\", \"Friday\", \"Saturday\", \"Sunday\"]\n",
    "\n",
    "# Grouping and sorting by year\n",
    "yearly_trend = df.groupby(\"year\").size()\n",
    "\n",
    "\n",
    "# Grouping and sorting by month\n",
    "monthly_trend = df.groupby(\"month\").size().reindex(monthly_order)\n",
    "\n",
    "# Grouping and sorting by day\n",
    "daily_trend = df.groupby(\"day\").size().reindex(daily_order)"
   ]
  },
  {
   "cell_type": "code",
   "execution_count": 76,
   "id": "c7f098fe-e40e-478e-8673-536194c0acef",
   "metadata": {},
   "outputs": [
    {
     "data": {
      "text/plain": [
       "year\n",
       "2021    1668\n",
       "2022    2885\n",
       "dtype: int64"
      ]
     },
     "execution_count": 76,
     "metadata": {},
     "output_type": "execute_result"
    }
   ],
   "source": [
    "yearly_trend"
   ]
  },
  {
   "cell_type": "code",
   "execution_count": 80,
   "id": "65b532fa-5a9d-4ce4-8922-f02fe6ad8649",
   "metadata": {},
   "outputs": [
    {
     "data": {
      "image/png": "[encoded data removed]",
      "text/plain": [
       "<Figure size 500x500 with 1 Axes>"
      ]
     },
     "metadata": {},
     "output_type": "display_data"
    }
   ],
   "source": [
    "# --- Plot Yearly Theft Trend ---\n",
    "plt.figure(figsize=(5, 5))\n",
    "sns.barplot(x=yearly_trend.index, y=yearly_trend.values)\n",
    "plt.title(\"Theft Trend by Year\")\n",
    "plt.xlabel(\"Year\")\n",
    "plt.ylabel(\"Number of Thefts\")\n",
    "plt.tight_layout()\n",
    "plt.show()"
   ]
  },
  {
   "cell_type": "code",
   "execution_count": 39,
   "id": "7af5ea01-8b37-4e6a-9e1a-9bd4939d71e7",
   "metadata": {},
   "outputs": [
    {
     "data": {
      "text/plain": [
       "month\n",
       "January      740\n",
       "February     763\n",
       "March       1053\n",
       "April        329\n",
       "October      464\n",
       "November     560\n",
       "December     644\n",
       "dtype: int64"
      ]
     },
     "execution_count": 39,
     "metadata": {},
     "output_type": "execute_result"
    }
   ],
   "source": [
    "monthly_trend"
   ]
  },
  {
   "cell_type": "code",
   "execution_count": 46,
   "id": "226d25f7-874e-4f00-9b68-71434dc9d234",
   "metadata": {},
   "outputs": [
    {
     "data": {
      "image/png": "[encoded data removed]",
      "text/plain": [
       "<Figure size 1000x500 with 1 Axes>"
      ]
     },
     "metadata": {},
     "output_type": "display_data"
    }
   ],
   "source": [
    "# --- Plot Monthly Theft Trend ---\n",
    "plt.figure(figsize=(10, 5))\n",
    "sns.lineplot(x=monthly_trend.index, y=monthly_trend.values, marker=\"o\", color='royalblue')\n",
    "plt.title(\"Theft Trend by Month\")\n",
    "plt.xlabel(\"Month\")\n",
    "plt.ylabel(\"Number of Thefts\")\n",
    "plt.tight_layout()\n",
    "plt.show()"
   ]
  },
  {
   "cell_type": "markdown",
   "id": "557233ad-77ed-48db-8bc2-0f74dc544ab5",
   "metadata": {},
   "source": [
    "#### Key Insights:\n",
    "- **March** had the **highest number of thefts (1,053)**, significantly more than any other month in the dataset.\n",
    "- **January** and **February** also had relatively high numbers (740 and 763, respectively).\n",
    "- **April** showed the **lowest theft count (329)**, which marks a sharp drop after March.\n",
    "- Toward the end of the year, thefts seem to **rise again** — from **464 in October to 644 in December**.\n",
    "\n",
    "#### Possible Explanations:\n",
    "- The early-year spike (Jan–Mar) may be due to seasonal patterns, possibly linked to post-holiday vulnerabilities or weather conditions that affect crime rates.\n",
    "- The increase in thefts toward the **end of the year** could be related to the festive season, which might lead to more opportunities for theft.\n",
    "- There is a noticeable gap in the data for the middle months (May–September). I plan to explore whether this trend holds for the missing months or if the data is incomplete."
   ]
  },
  {
   "cell_type": "code",
   "execution_count": 40,
   "id": "31d1af13-e7c0-4553-96aa-97cf6e915ed5",
   "metadata": {},
   "outputs": [
    {
     "data": {
      "text/plain": [
       "day\n",
       "Monday       767\n",
       "Tuesday      711\n",
       "Wednesday    629\n",
       "Thursday     619\n",
       "Friday       655\n",
       "Saturday     577\n",
       "Sunday       595\n",
       "dtype: int64"
      ]
     },
     "execution_count": 40,
     "metadata": {},
     "output_type": "execute_result"
    }
   ],
   "source": [
    "daily_trend"
   ]
  },
  {
   "cell_type": "code",
   "execution_count": 47,
   "id": "8298aeff-9cfc-451c-be65-dea5e0584a27",
   "metadata": {},
   "outputs": [
    {
     "data": {
      "image/png": "[encoded data removed]",
      "text/plain": [
       "<Figure size 1000x500 with 1 Axes>"
      ]
     },
     "metadata": {},
     "output_type": "display_data"
    }
   ],
   "source": [
    "# --- Plot Daily Theft Trend ---\n",
    "plt.figure(figsize=(10, 5))\n",
    "sns.lineplot(x=daily_trend.index, y=daily_trend.values, marker=\"o\", color='seagreen')\n",
    "plt.title(\"Theft Trend by Day of the Week\")\n",
    "plt.xlabel(\"Day of the Week\")\n",
    "plt.ylabel(\"Number of Thefts\")\n",
    "plt.xticks(rotation=45)\n",
    "plt.tight_layout()\n",
    "plt.show()"
   ]
  },
  {
   "cell_type": "markdown",
   "id": "d3eaa577-4b8a-43af-aa20-af3c18b4e334",
   "metadata": {},
   "source": [
    "#### Key Insights:\n",
    "- **Monday** had the **highest number of thefts (767)**, making it the most active day for vehicle thefts.\n",
    "- **Tuesday** followed closely with **711 thefts**, while the numbers gradually decreased through the rest of the week.\n",
    "- The lowest theft count was on **Saturday (577)**, with **Sunday (595)** slightly higher but still near the bottom.\n",
    "- **Wednesday**, **Thursday**, and **Friday** all had theft counts ranging from **619 to 655**, indicating a more consistent mid-week trend.\n",
    "\n",
    "#### Possible Explanations:\n",
    "- **Mondays** may have higher theft counts due to factors like increased traffic after the weekend or people being less vigilant at the start of the week.\n",
    "- The drop in thefts on **Saturdays** might reflect greater public activity and increased security, as people are more likely to be out and about.\n",
    "- The trend seems relatively stable in the middle of the week, which could be linked to weekday routines or patterns in criminal behavior."
   ]
  },
  {
   "cell_type": "markdown",
   "id": "241b6ad4-9c94-4b4d-96ed-34f725c55a7d",
   "metadata": {},
   "source": [
    "### **Theft By Make, Model and Color**"
   ]
  },
  {
   "cell_type": "code",
   "execution_count": 64,
   "id": "5bfb082f-62fb-479b-bb30-5c6ec7425254",
   "metadata": {},
   "outputs": [
    {
     "name": "stdout",
     "output_type": "stream",
     "text": [
      "Top 10 Stolen Make \n",
      "    make_name    0\n",
      "0      Toyota  716\n",
      "1     Trailer  543\n",
      "2      Nissan  482\n",
      "3       Mazda  433\n",
      "4        Ford  312\n",
      "5       Honda  271\n",
      "6  Mitsubishi  204\n",
      "7      Subaru  202\n",
      "8      Suzuki  164\n",
      "9      Holden  160\n"
     ]
    }
   ],
   "source": [
    "## Theft by Make\n",
    "make_theft = df.groupby([\"make_name\"]).size().sort_values(ascending = False).reset_index().head(10)\n",
    "print(\"Top 10 Stolen Make \")\n",
    "print(make_theft)"
   ]
  },
  {
   "cell_type": "code",
   "execution_count": 69,
   "id": "d929698f-ceb4-41c8-b2f1-982dfb2caa88",
   "metadata": {},
   "outputs": [
    {
     "name": "stderr",
     "output_type": "stream",
     "text": [
      "C:\\Users\\Data Professor\\AppData\\Local\\Temp\\ipykernel_15564\\3032045300.py:3: FutureWarning: \n",
      "\n",
      "Passing `palette` without assigning `hue` is deprecated and will be removed in v0.14.0. Assign the `y` variable to `hue` and set `legend=False` for the same effect.\n",
      "\n",
      "  sns.barplot(data=make_model, x= 0, y=\"make_name\", palette='viridis')  # Horizontal bar plot\n"
     ]
    },
    {
     "data": {
      "image/png": "[encoded data removed]",
      "text/plain": [
       "<Figure size 1000x600 with 1 Axes>"
      ]
     },
     "metadata": {},
     "output_type": "display_data"
    }
   ],
   "source": [
    "# Plotting the bar chart\n",
    "plt.figure(figsize=(10, 6))\n",
    "sns.barplot(data=make_theft, x= 0, y=\"make_name\", palette='viridis')  # Horizontal bar plot\n",
    "plt.title(\"Top 10 Stolen Car Make\")\n",
    "plt.xlabel(\"Number of Thefts\")\n",
    "plt.ylabel(\"Make Name\")\n",
    "plt.tight_layout()\n",
    "plt.show()"
   ]
  },
  {
   "cell_type": "markdown",
   "id": "d5ac6525-bbbf-4d33-bcba-1bb1e3f5eaaf",
   "metadata": {},
   "source": [
    "### Key Insights:\n",
    "- **Toyota** is the most frequently stolen car make, with a total of **716 thefts**.\n",
    "- The **Trailer** make comes second, with **543 thefts**.\n",
    "- **Nissan**, **Mazda**, and **Ford** also appear in the top 5, with **482**, **433**, and **312 thefts** respectively.\n",
    "- The least stolen in the top 10 is **Holden**, with **160 thefts**.\n",
    "\n",
    "This data could be useful for further analysis to understand which makes are targeted most by car thieves, potentially leading to investigations or preventive measures for these makes."
   ]
  },
  {
   "cell_type": "code",
   "execution_count": 94,
   "id": "ce08938b-7612-4643-b513-3188a35d1f2b",
   "metadata": {},
   "outputs": [
    {
     "name": "stdout",
     "output_type": "stream",
     "text": [
      "Top 10 Stolen Model Year \n",
      "   model_year    0\n",
      "0        2005  362\n",
      "1        2006  333\n",
      "2        2007  251\n",
      "3        2004  238\n",
      "4        2008  190\n",
      "5        2002  181\n",
      "6        2003  173\n",
      "7        1998  159\n",
      "8        1996  156\n",
      "9        2001  152\n"
     ]
    }
   ],
   "source": [
    "## Theft by Model Year\n",
    "model_theft = df.groupby([\"model_year\"]).size().sort_values(ascending = False).reset_index().head(10)\n",
    "print(\"Top 10 Stolen Model Year \")\n",
    "print(model_theft)"
   ]
  },
  {
   "cell_type": "code",
   "execution_count": 99,
   "id": "505bcdfe-72de-4404-8b1c-1b033827cde4",
   "metadata": {},
   "outputs": [
    {
     "data": {
      "image/png": "[encoded data removed]",
      "text/plain": [
       "<Figure size 500x600 with 1 Axes>"
      ]
     },
     "metadata": {},
     "output_type": "display_data"
    }
   ],
   "source": [
    "# Create the histogram plot\n",
    "plt.figure(figsize=(5, 6))\n",
    "sns.histplot(model_theft, x='model_year', weights=0, bins=10, kde=True, color='blue', edgecolor='black')\n",
    "plt.title(\"Top 10 Stolen Model Years\")\n",
    "plt.xlabel(\"Model Year\")\n",
    "plt.ylabel(\"Number of Thefts\")\n",
    "plt.tight_layout()\n",
    "plt.show()"
   ]
  },
  {
   "cell_type": "markdown",
   "id": "699d3d8b-55c1-463b-9c27-6b4101a696d7",
   "metadata": {},
   "source": [
    "### Key Insights:\n",
    "- **2005** and **2006** model years are the most frequently stolen, with **362** and **333 thefts** respectively. These vehicles may have been targeted due to a combination of market demand, age, and potentially lower security features compared to newer models.\n",
    "- **2007** and **2004** model years also rank highly, with **251** and **238 thefts**, suggesting that mid-2000s vehicles are still vulnerable to theft.\n",
    "- There is a noticeable drop in thefts for vehicles from **2008** and beyond, with **190** reported thefts for the 2008 model. This likely reflects the implementation of better security measures in newer vehicles.\n",
    "- **Older models**, such as **2002**, **2003**, and **1998**, still face a considerable number of thefts, ranging from **181** to **159**. These vehicles might be targeted for their spare parts or due to their age, making them more susceptible to theft.\n",
    "- **1996** and **2001** models are less frequently stolen, with **156** and **152** thefts, possibly due to their lower resale value and less demand.\n",
    "\n",
    "### Conclusion:\n",
    "The data suggests that **mid-2000s vehicles** (2005-2007) are the most frequently stolen, likely due to a combination of high demand, age, and lower security compared to newer models. Newer vehicles (post-2008) are less likely to be stolen, possibly due to improvements in vehicle security systems."
   ]
  },
  {
   "cell_type": "code",
   "execution_count": 86,
   "id": "efa8a985-ce18-47d4-ba1b-02512581c530",
   "metadata": {},
   "outputs": [
    {
     "name": "stdout",
     "output_type": "stream",
     "text": [
      "Top 10 Stolen Car Color \n",
      "    color     0\n",
      "0  Silver  1272\n",
      "1   White   934\n",
      "2   Black   589\n",
      "3    Blue   512\n",
      "4     Red   390\n",
      "5    Grey   378\n",
      "6   Green   224\n",
      "7    Gold    77\n",
      "8   Brown    49\n",
      "9  Yellow    39\n"
     ]
    }
   ],
   "source": [
    "## Theft by Model\n",
    "color_theft = df.groupby([\"color\"]).size().sort_values(ascending = False).reset_index().head(10)\n",
    "print(\"Top 10 Stolen Car Color \")\n",
    "print(color_theft)"
   ]
  },
  {
   "cell_type": "code",
   "execution_count": 87,
   "id": "cf725bde-46c4-414f-8acb-0d6386540b42",
   "metadata": {},
   "outputs": [
    {
     "name": "stderr",
     "output_type": "stream",
     "text": [
      "C:\\Users\\Data Professor\\AppData\\Local\\Temp\\ipykernel_15564\\3240944176.py:3: FutureWarning: \n",
      "\n",
      "Passing `palette` without assigning `hue` is deprecated and will be removed in v0.14.0. Assign the `y` variable to `hue` and set `legend=False` for the same effect.\n",
      "\n",
      "  sns.barplot(data=color_theft, x= 0, y=\"color\", palette='viridis')  # Horizontal bar plot\n"
     ]
    },
    {
     "data": {
      "image/png": "[encoded data removed]",
      "text/plain": [
       "<Figure size 500x400 with 1 Axes>"
      ]
     },
     "metadata": {},
     "output_type": "display_data"
    }
   ],
   "source": [
    "# Plotting the bar chart\n",
    "plt.figure(figsize=(5, 4))\n",
    "sns.barplot(data=color_theft, x= 0, y=\"color\", palette='viridis')  # Horizontal bar plot\n",
    "plt.title(\"Top 10 Stolen Car Color\")\n",
    "plt.xlabel(\"Number of Thefts\")\n",
    "plt.ylabel(\"Car Color\")\n",
    "plt.tight_layout()\n",
    "plt.show()"
   ]
  },
  {
   "cell_type": "markdown",
   "id": "d4f42114-14ad-492b-8684-d87e1725eef8",
   "metadata": {},
   "source": [
    "### Key Insights:\n",
    "- **Silver** is the most common color among stolen cars, with **1272 thefts** reported.\n",
    "- **White** follows closely with **934 thefts**, and **Black** is third with **589 thefts**.\n",
    "- **Blue** and **Red** cars are also frequently stolen, with **512** and **390 thefts**, respectively.\n",
    "- **Grey** is another common stolen color, with **378 thefts**.\n",
    "- **Green**, **Gold**, **Brown**, and **Yellow** cars are much less likely to be stolen, with **224**, **77**, **49**, and **39 thefts**, respectively.\n",
    "\n",
    "This data suggests that silver, white, and black are more commonly targeted for theft. This could be due to factors like popularity or resale value in the market."
   ]
  },
  {
   "cell_type": "markdown",
   "id": "0a447d4d-0680-46fe-a311-f4071415b483",
   "metadata": {},
   "source": [
    "### **Geographic Theft Analysis**"
   ]
  },
  {
   "cell_type": "code",
   "execution_count": 71,
   "id": "f9c8ffc1-4404-4ae9-9a61-01586179f393",
   "metadata": {},
   "outputs": [
    {
     "name": "stdout",
     "output_type": "stream",
     "text": [
      "region\n",
      "Auckland              1638\n",
      "Canterbury             660\n",
      "Bay of Plenty          446\n",
      "Wellington             420\n",
      "Waikato                371\n",
      "Northland              234\n",
      "Gisborne               176\n",
      "Otago                  139\n",
      "Manawatū-Whanganui     139\n",
      "Taranaki               112\n",
      "Name: count, dtype: int64\n"
     ]
    },
    {
     "name": "stderr",
     "output_type": "stream",
     "text": [
      "C:\\Users\\Data Professor\\AppData\\Local\\Temp\\ipykernel_15564\\2453419651.py:7: FutureWarning: \n",
      "\n",
      "Passing `palette` without assigning `hue` is deprecated and will be removed in v0.14.0. Assign the `y` variable to `hue` and set `legend=False` for the same effect.\n",
      "\n",
      "  sns.barplot(x=region_theft.values, y=region_theft.index, palette='Reds_r')\n"
     ]
    },
    {
     "data": {
      "image/png": "[encoded data removed]",
      "text/plain": [
       "<Figure size 1000x500 with 1 Axes>"
      ]
     },
     "metadata": {},
     "output_type": "display_data"
    }
   ],
   "source": [
    "## Geographic theft analysis\n",
    "region_theft = df['region'].value_counts().head(10)\n",
    "print(region_theft)\n",
    "\n",
    "# Plot heatmap-like bar chart\n",
    "plt.figure(figsize=(10, 5))\n",
    "sns.barplot(x=region_theft.values, y=region_theft.index, palette='Reds_r')\n",
    "plt.title('Top 10 Regions by Theft Count')\n",
    "plt.xlabel('Number of Thefts')\n",
    "plt.tight_layout()\n",
    "plt.show()\n"
   ]
  },
  {
   "cell_type": "markdown",
   "id": "59a23585-c17b-47e7-b4a6-b44b9a542e79",
   "metadata": {},
   "source": [
    "### Key Insights:\n",
    "- **Auckland** leads with the highest number of car thefts, with **1638 thefts** reported.\n",
    "- **Canterbury** is second, with **660 thefts**, and **Bay of Plenty** follows with **446 thefts**.\n",
    "- The region with the lowest number of thefts in the top 10 is **Taranaki**, with **112 thefts**.\n",
    "- **Wellington**, **Waikato**, and **Northland** each have significant theft counts, indicating these regions are also high-risk areas for car theft.\n",
    "- **Gisborne** and **Otago** are in the middle range, with **176** and **139 thefts**, respectively.\n",
    "\n",
    "This data could help to pinpoint areas that might require increased police presence, surveillance, or public awareness campaigns to prevent car thefts."
   ]
  },
  {
   "cell_type": "markdown",
   "id": "c5f24b45-3f72-47b8-93a3-414a89fb766e",
   "metadata": {},
   "source": [
    "# **Conclusion**\n",
    "\n",
    "After conducting a detailed analysis of the car theft data, I have identified several key insights that provide a deeper understanding of the patterns in vehicle thefts. Here are the major findings from my analysis:\n",
    "\n",
    "1. **Yearly Trends**:\n",
    "   - The year 2022 saw a sharp increase in thefts, with a total of 2,885 reported incidents, compared to 1,668 in 2021. This suggests a growing problem in recent times, which may warrant further investigation into the causes behind this rise.\n",
    "\n",
    "2. **Monthly Patterns**:\n",
    "   - March had the highest number of thefts, with 1,053 reported incidents, likely due to seasonal factors or post-holiday vulnerabilities. In contrast, April saw the fewest thefts, with only 329. Interestingly, the theft numbers appear to rise again toward the end of the year, possibly correlating with the festive season.\n",
    "\n",
    "3. **Weekly Trends**:\n",
    "   - Mondays were the most active days for thefts, with 767 incidents reported. This could be due to increased traffic and lower vigilance at the start of the week. On the other hand, Saturdays had the least number of thefts, potentially due to greater public activity and increased security.\n",
    "\n",
    "4. **Make-Model Trends**:\n",
    "   - **Toyota** topped the list as the most frequently stolen make, with 716 thefts. This was followed by **Trailer** and **Nissan**, which were also commonly targeted. The data suggests that certain makes are more prone to theft, likely due to factors like demand, popularity, and resale value.\n",
    "\n",
    "5. **Model Year Patterns**:\n",
    "   - Vehicles from the **2005 and 2006 model years** were the most stolen, with 362 and 333 incidents, respectively. This could be due to their age, lower security features, and continued demand for parts. Newer vehicles (post-2008) showed a decline in thefts, possibly due to improved security systems.\n",
    "\n",
    "6. **Color Preferences**:\n",
    "   - **Silver** emerged as the most stolen car color, followed by **White** and **Black**. This could be attributed to the higher popularity of these colors, which may make them more attractive targets for thieves. Meanwhile, **Gold**, **Brown**, and **Yellow** vehicles were less likely to be stolen.\n",
    "\n",
    "7. **Regional Distribution**:\n",
    "   - **Auckland** recorded the highest number of car thefts, with 1,638 incidents. Other regions such as **Canterbury** and **Bay of Plenty** also saw significant theft counts. These areas could benefit from targeted interventions to reduce theft rates.\n",
    "\n",
    "## **Recommendations**\n",
    "\n",
    "Based on my analysis, I propose the following actionable recommendations to help reduce vehicle thefts:\n",
    "\n",
    "1. **Enhanced Surveillance and Policing in High-Theft Areas**:\n",
    "   - Regions such as **Auckland**, **Canterbury**, and **Bay of Plenty** should increase police presence and surveillance, especially in high-risk areas, to deter thefts. Community awareness campaigns could also be useful in educating the public about car theft prevention.\n",
    "\n",
    "2. **Targeted Security Measures for Popular Makes and Model Years**:\n",
    "   - Given that **Toyota** and mid-2000s model years (2005-2007) are the most frequently stolen, car owners in these categories should be encouraged to install additional security measures, such as steering wheel locks, GPS tracking devices, and alarm systems.\n",
    "\n",
    "3. **Seasonal Precautions**:\n",
    "   - The increase in thefts during the first quarter of the year (January to March) and the end of the year (October to December) suggests that thieves may exploit specific times. Authorities should focus on public awareness campaigns during these months, urging vigilance and extra precautions, particularly during the festive season.\n",
    "\n",
    "4. **Promote the Use of Vehicle Identification Technology**:\n",
    "   - As older vehicles (1996-2005 models) are frequently targeted, I recommend encouraging vehicle owners to use visible or hidden identifiers (like VIN etching) and modern anti-theft technology to deter thieves.\n",
    "\n",
    "5. **Encourage Color-Related Theft Prevention**:\n",
    "   - Since **Silver**, **White**, and **Black** are the most commonly stolen colors, car owners of these colors should be encouraged to take extra precautions, such as parking in well-lit areas or using steering locks, to minimize the risk of theft.\n",
    "\n",
    "By implementing these strategies, authorities and car owners can work together to mitigate the rising trend of car thefts and protect valuable assets.\n"
   ]
  },
  {
   "cell_type": "code",
   "execution_count": null,
   "id": "5e97a273-4abd-4e23-9227-79d05c146b4c",
   "metadata": {},
   "outputs": [],
   "source": []
  }
 ],
 "metadata": {
  "kernelspec": {
   "display_name": "Python 3 (ipykernel)",
   "language": "python",
   "name": "python3"
  },
  "language_info": {
   "codemirror_mode": {
    "name": "ipython",
    "version": 3
   },
   "file_extension": ".py",
   "mimetype": "text/x-python",
   "name": "python",
   "nbconvert_exporter": "python",
   "pygments_lexer": "ipython3",
   "version": "3.13.3"
  }
 },
 "nbformat": 4,
 "nbformat_minor": 5
}
